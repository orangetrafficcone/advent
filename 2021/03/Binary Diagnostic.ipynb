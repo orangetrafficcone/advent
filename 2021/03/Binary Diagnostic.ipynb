{
 "cells": [
  {
   "cell_type": "code",
   "execution_count": 1,
   "id": "227a04b4",
   "metadata": {},
   "outputs": [
    {
     "name": "stdout",
     "output_type": "stream",
     "text": [
      "Some data: ['101001011000', '100000101010', '110000011001', '010000100111', '100111101110', '101110000000', '001010111010', '001101110110', '100100001100', '101011011010']\n",
      "Number of lines: 1000\n"
     ]
    }
   ],
   "source": [
    "with open('input.txt', 'r') as f:\n",
    "    lines = f.read().splitlines() \n",
    "    \n",
    "print(f'Some data: {lines[0:10]}')\n",
    "print(f'Number of lines: {len(lines)}')"
   ]
  },
  {
   "cell_type": "code",
   "execution_count": 2,
   "id": "4f49d96a",
   "metadata": {},
   "outputs": [],
   "source": [
    "# 00100\n",
    "# 11110\n",
    "# 10110\n",
    "# 10111\n",
    "# 10101\n",
    "# 01111\n",
    "# 00111\n",
    "# 11100\n",
    "# 10000\n",
    "# 11001\n",
    "# 00010\n",
    "# 01010\n",
    "# =====\n",
    "# 10110 - Gamma rate\n",
    "# 01001 - Epsilon rate\n",
    "\n",
    "# 10111 - Oxygen value\n"
   ]
  },
  {
   "cell_type": "markdown",
   "id": "09e9d832",
   "metadata": {},
   "source": [
    "# part 1"
   ]
  },
  {
   "cell_type": "code",
   "execution_count": 3,
   "id": "3f8978ca",
   "metadata": {},
   "outputs": [
    {
     "name": "stdout",
     "output_type": "stream",
     "text": [
      "23\n",
      "30\n",
      "0\n"
     ]
    }
   ],
   "source": [
    "print(int('23'))\n",
    "print(int('11110', base=2))\n",
    "x = 0\n",
    "x + 3\n",
    "print(x)"
   ]
  },
  {
   "cell_type": "code",
   "execution_count": 4,
   "id": "b9ed83f1",
   "metadata": {
    "scrolled": true
   },
   "outputs": [
    {
     "name": "stdout",
     "output_type": "stream",
     "text": [
      "011100011000\n",
      "Gamma: 1816\n",
      "Epsilon: 2279\n",
      "Power consumption: 4138664\n"
     ]
    }
   ],
   "source": [
    "gamma = ''\n",
    "epsilon = ''\n",
    "width = len(lines[0])\n",
    "for bit in range(width):\n",
    "    num_0s = 0\n",
    "    num_1s = 0\n",
    "\n",
    "    for i in range(len(lines)):\n",
    "        if lines[i][bit] == '1':\n",
    "            num_1s += 1\n",
    "        else:\n",
    "            num_0s += 1\n",
    "\n",
    "    if num_1s > num_0s:\n",
    "        gamma += '1'\n",
    "        epsilon += '0'\n",
    "    else:\n",
    "        gamma += '0'\n",
    "        epsilon += '1'\n",
    "            \n",
    "print(gamma)\n",
    "\n",
    "gamma = int(gamma, base=2)\n",
    "epsilon = int(epsilon, base=2)\n",
    "\n",
    "print(f'Gamma: {gamma}')\n",
    "print(f'Epsilon: {epsilon}')\n",
    "print(f'Power consumption: {gamma * epsilon}')"
   ]
  },
  {
   "cell_type": "markdown",
   "id": "2be39209",
   "metadata": {},
   "source": [
    "# part 2"
   ]
  },
  {
   "cell_type": "code",
   "execution_count": null,
   "id": "4732d4ed",
   "metadata": {},
   "outputs": [],
   "source": []
  },
  {
   "cell_type": "code",
   "execution_count": 14,
   "id": "bf33068a",
   "metadata": {},
   "outputs": [
    {
     "name": "stdout",
     "output_type": "stream",
     "text": [
      "0: 1000\n",
      "1: 527\n",
      "2: 272\n",
      "3: 139\n",
      "4: 81\n",
      "5: 42\n",
      "6: 21\n",
      "7: 12\n",
      "8: 7\n",
      "9: 4\n",
      "10: 2\n",
      "0: 1000\n",
      "1: 473\n",
      "2: 232\n",
      "3: 113\n",
      "4: 56\n",
      "5: 28\n",
      "6: 12\n",
      "7: 4\n",
      "Life Support Rating: 4273224\n"
     ]
    }
   ],
   "source": [
    "def rating_filter(values, bit, use_most_common):\n",
    "    result = []\n",
    "    num_0s = 0\n",
    "    num_1s = 0\n",
    "\n",
    "    for value in values:\n",
    "        if value[bit] == '1':\n",
    "            num_1s += 1\n",
    "        else:\n",
    "            num_0s += 1\n",
    "\n",
    "    if num_1s >= num_0s:\n",
    "        most_common = '1'\n",
    "        least_common = '0'\n",
    "    else:\n",
    "        most_common = '0'\n",
    "        least_common = '1'\n",
    "    \n",
    "    if use_most_common:\n",
    "        bit_criteria = most_common\n",
    "    else:\n",
    "        bit_criteria = least_common\n",
    "    \n",
    "    for value in values:\n",
    "        if value[bit] == bit_criteria:\n",
    "            result.append(value)\n",
    "\n",
    "    return result\n",
    "\n",
    "\n",
    "\n",
    "def find_rating(use_most_common):    \n",
    "    ratings = lines\n",
    "    times_through = 0\n",
    "    while len(ratings) != 1:\n",
    "        print(f'{times_through}: {len(ratings)}')\n",
    "        ratings = rating_filter(ratings, times_through, use_most_common)\n",
    "        times_through +=1\n",
    "        \n",
    "    return int(ratings[0], base = 2)\n",
    "\n",
    "oxygen_generator_rating = find_rating(True)\n",
    "c02_scrubber_rating = find_rating(False)\n",
    "life_support_rating = oxygen_generator_rating * c02_scrubber_rating\n",
    "\n",
    "print(f'Life Support Rating: {life_support_rating}')    "
   ]
  },
  {
   "cell_type": "code",
   "execution_count": null,
   "id": "23805e52",
   "metadata": {},
   "outputs": [],
   "source": []
  }
 ],
 "metadata": {
  "kernelspec": {
   "display_name": "Python 3 (ipykernel)",
   "language": "python",
   "name": "python3"
  },
  "language_info": {
   "codemirror_mode": {
    "name": "ipython",
    "version": 3
   },
   "file_extension": ".py",
   "mimetype": "text/x-python",
   "name": "python",
   "nbconvert_exporter": "python",
   "pygments_lexer": "ipython3",
   "version": "3.7.10"
  }
 },
 "nbformat": 4,
 "nbformat_minor": 5
}
