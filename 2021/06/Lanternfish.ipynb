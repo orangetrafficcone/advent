{
 "cells": [
  {
   "cell_type": "code",
   "execution_count": 1,
   "id": "e364e481",
   "metadata": {},
   "outputs": [],
   "source": [
    "from dataclasses import dataclass\n",
    "\n",
    "\n",
    "@dataclass\n",
    "class School():\n",
    "    fish: list\n",
    "        \n",
    "    def __len__(self):\n",
    "        return len(self.fish)\n",
    "        \n",
    "    def dec_timers(self):\n",
    "        for i in range(len(self.fish)):\n",
    "            self.fish[i] -= 1\n",
    "            if self.fish[i] == -1:\n",
    "                self.fish[i] = 6\n",
    "                self.fish.append(8)"
   ]
  },
  {
   "cell_type": "markdown",
   "id": "4911f80c",
   "metadata": {},
   "source": [
    "# example"
   ]
  },
  {
   "cell_type": "code",
   "execution_count": 2,
   "id": "07121b10",
   "metadata": {},
   "outputs": [
    {
     "name": "stdout",
     "output_type": "stream",
     "text": [
      "School(fish=[2])\n",
      "School(fish=[1])\n",
      "School(fish=[0])\n",
      "School(fish=[6, 8])\n",
      "School(fish=[5, 7])\n"
     ]
    }
   ],
   "source": [
    "example = School([3])\n",
    "for i in range(5):\n",
    "    example.dec_timers()\n",
    "    print(example)\n"
   ]
  },
  {
   "cell_type": "code",
   "execution_count": 3,
   "id": "856a855d",
   "metadata": {},
   "outputs": [
    {
     "name": "stdout",
     "output_type": "stream",
     "text": [
      "School(fish=[2, 3, 2, 0, 1])\n",
      "School(fish=[1, 2, 1, 6, 0, 8])\n",
      "School(fish=[0, 1, 0, 5, 6, 7, 8])\n",
      "School(fish=[6, 0, 6, 4, 5, 6, 7, 8, 8])\n",
      "School(fish=[5, 6, 5, 3, 4, 5, 6, 7, 7, 8])\n",
      "School(fish=[4, 5, 4, 2, 3, 4, 5, 6, 6, 7])\n",
      "School(fish=[3, 4, 3, 1, 2, 3, 4, 5, 5, 6])\n",
      "School(fish=[2, 3, 2, 0, 1, 2, 3, 4, 4, 5])\n",
      "School(fish=[1, 2, 1, 6, 0, 1, 2, 3, 3, 4, 8])\n",
      "School(fish=[0, 1, 0, 5, 6, 0, 1, 2, 2, 3, 7, 8])\n",
      "School(fish=[6, 0, 6, 4, 5, 6, 0, 1, 1, 2, 6, 7, 8, 8, 8])\n",
      "School(fish=[5, 6, 5, 3, 4, 5, 6, 0, 0, 1, 5, 6, 7, 7, 7, 8, 8])\n",
      "School(fish=[4, 5, 4, 2, 3, 4, 5, 6, 6, 0, 4, 5, 6, 6, 6, 7, 7, 8, 8])\n",
      "School(fish=[3, 4, 3, 1, 2, 3, 4, 5, 5, 6, 3, 4, 5, 5, 5, 6, 6, 7, 7, 8])\n",
      "School(fish=[2, 3, 2, 0, 1, 2, 3, 4, 4, 5, 2, 3, 4, 4, 4, 5, 5, 6, 6, 7])\n",
      "School(fish=[1, 2, 1, 6, 0, 1, 2, 3, 3, 4, 1, 2, 3, 3, 3, 4, 4, 5, 5, 6, 8])\n",
      "School(fish=[0, 1, 0, 5, 6, 0, 1, 2, 2, 3, 0, 1, 2, 2, 2, 3, 3, 4, 4, 5, 7, 8])\n",
      "School(fish=[6, 0, 6, 4, 5, 6, 0, 1, 1, 2, 6, 0, 1, 1, 1, 2, 2, 3, 3, 4, 6, 7, 8, 8, 8, 8])\n"
     ]
    }
   ],
   "source": [
    "example1 = School([3,4,3,1,2])\n",
    "for i in range(18):\n",
    "    example1.dec_timers()\n",
    "    print(example1)"
   ]
  },
  {
   "cell_type": "markdown",
   "id": "e74d8479",
   "metadata": {},
   "source": [
    "# part 1"
   ]
  },
  {
   "cell_type": "code",
   "execution_count": 4,
   "id": "78c768ce",
   "metadata": {},
   "outputs": [
    {
     "data": {
      "text/plain": [
       "'3,4,3,1,2,1,5,1,1,1,1,4,1,2,1,1,2,1,1,1,3,4,4,4,1,3,2,1,3,4,1,1,3,4,2,5,5,3,3,3,5,1,4,1,2,3,1,1,1,4,1,4,1,5,3,3,1,4,1,5,1,2,2,1,1,5,5,2,5,1,1,1,1,3,1,4,1,1,1,4,1,1,1,5,2,3,5,3,4,1,1,1,1,1,2,2,1,1,1,1,1,1,5,5,1,3,3,1,2,1,3,1,5,1,1,4,1,1,2,4,1,5,1,1,3,3,3,4,2,4,1,1,5,1,1,1,1,4,4,1,1,1,3,1,1,2,1,3,1,1,1,1,5,3,3,2,2,1,4,3,3,2,1,3,3,1,2,5,1,3,5,2,2,1,1,1,1,5,1,2,1,1,3,5,4,2,3,1,1,1,4,1,3,2,1,5,4,5,1,4,5,1,3,3,5,1,2,1,1,3,3,1,5,3,1,1,1,3,2,5,5,1,1,4,2,1,2,1,1,5,5,1,4,1,1,3,1,5,2,5,3,1,5,2,2,1,1,5,1,5,1,2,1,3,1,1,1,2,3,2,1,4,1,1,1,1,5,4,1,4,5,1,4,3,4,1,1,1,1,2,5,4,1,1,3,1,2,1,1,2,1,1,1,2,1,1,1,1,1,4\\n'"
      ]
     },
     "metadata": {},
     "output_type": "display_data"
    }
   ],
   "source": [
    "with open('input.txt', 'r') as f:\n",
    "    input = f.readline()\n",
    "    \n",
    "display(input)"
   ]
  },
  {
   "cell_type": "code",
   "execution_count": 5,
   "id": "fdc5ef96",
   "metadata": {},
   "outputs": [],
   "source": [
    "fish = []\n",
    "data = input.split(',')\n",
    "for i in range(len(data)):\n",
    "    fish.append(int(data[i]))\n",
    "\n"
   ]
  },
  {
   "cell_type": "code",
   "execution_count": 19,
   "id": "2067ff74",
   "metadata": {},
   "outputs": [
    {
     "name": "stdout",
     "output_type": "stream",
     "text": [
      "School(fish=[3, 4, 3, 1, 2, 1, 5, 1, 1, 1, 1, 4, 1, 2, 1, 1, 2, 1, 1, 1, 3, 4, 4, 4, 1, 3, 2, 1, 3, 4, 1, 1, 3, 4, 2, 5, 5, 3, 3, 3, 5, 1, 4, 1, 2, 3, 1, 1, 1, 4, 1, 4, 1, 5, 3, 3, 1, 4, 1, 5, 1, 2, 2, 1, 1, 5, 5, 2, 5, 1, 1, 1, 1, 3, 1, 4, 1, 1, 1, 4, 1, 1, 1, 5, 2, 3, 5, 3, 4, 1, 1, 1, 1, 1, 2, 2, 1, 1, 1, 1, 1, 1, 5, 5, 1, 3, 3, 1, 2, 1, 3, 1, 5, 1, 1, 4, 1, 1, 2, 4, 1, 5, 1, 1, 3, 3, 3, 4, 2, 4, 1, 1, 5, 1, 1, 1, 1, 4, 4, 1, 1, 1, 3, 1, 1, 2, 1, 3, 1, 1, 1, 1, 5, 3, 3, 2, 2, 1, 4, 3, 3, 2, 1, 3, 3, 1, 2, 5, 1, 3, 5, 2, 2, 1, 1, 1, 1, 5, 1, 2, 1, 1, 3, 5, 4, 2, 3, 1, 1, 1, 4, 1, 3, 2, 1, 5, 4, 5, 1, 4, 5, 1, 3, 3, 5, 1, 2, 1, 1, 3, 3, 1, 5, 3, 1, 1, 1, 3, 2, 5, 5, 1, 1, 4, 2, 1, 2, 1, 1, 5, 5, 1, 4, 1, 1, 3, 1, 5, 2, 5, 3, 1, 5, 2, 2, 1, 1, 5, 1, 5, 1, 2, 1, 3, 1, 1, 1, 2, 3, 2, 1, 4, 1, 1, 1, 1, 5, 4, 1, 4, 5, 1, 4, 3, 4, 1, 1, 1, 1, 2, 5, 4, 1, 1, 3, 1, 2, 1, 1, 2, 1, 1, 1, 2, 1, 1, 1, 1, 1, 4])\n",
      "371379\n",
      "300\n"
     ]
    }
   ],
   "source": [
    "part1 = School(fish.copy())\n",
    "print(part1)\n",
    "\n",
    "for i in range(80):\n",
    "    part1.dec_timers()\n",
    "\n",
    "print(len(part1))"
   ]
  },
  {
   "cell_type": "markdown",
   "id": "6633c2dc",
   "metadata": {},
   "source": [
    "# part 2"
   ]
  },
  {
   "cell_type": "code",
   "execution_count": 62,
   "id": "877eb7d2",
   "metadata": {
    "scrolled": false
   },
   "outputs": [
    {
     "name": "stdout",
     "output_type": "stream",
     "text": [
      "{0: 0, 1: 144, 2: 39, 3: 45, 4: 34, 5: 38, 6: 0, 7: 0, 8: 0}\n",
      "300\n"
     ]
    }
   ],
   "source": [
    "def total(t):\n",
    "    sum = 0\n",
    "    for key in t:\n",
    "        sum += t[key]\n",
    "    return sum\n",
    "\n",
    "timers = {\n",
    "    0: 0,\n",
    "    1: 0,\n",
    "    2: 0,\n",
    "    3: 0,\n",
    "    4: 0,\n",
    "    5: 0,\n",
    "    6: 0,\n",
    "    7: 0,\n",
    "    8: 0\n",
    "}\n",
    "for f in fish:\n",
    "    timers[f] += 1\n",
    "\n",
    "print(timers)\n",
    "print(total(timers))"
   ]
  },
  {
   "cell_type": "code",
   "execution_count": 63,
   "id": "289d57e9",
   "metadata": {},
   "outputs": [
    {
     "name": "stdout",
     "output_type": "stream",
     "text": [
      "1674303997472\n"
     ]
    }
   ],
   "source": [
    "keys = [8, 7, 6, 5, 4, 3, 2, 1, 0]\n",
    "\n",
    "for day in range(256):\n",
    "    next_gen = dict()\n",
    "    for key in keys:\n",
    "        count = timers[key]\n",
    "        if key == 0:\n",
    "            next_gen[8] = count\n",
    "            next_gen[6] += count\n",
    "        else:\n",
    "            next_gen[key-1] = count\n",
    "    timers = next_gen\n",
    "\n",
    "print(total(timers))\n",
    "    "
   ]
  },
  {
   "cell_type": "code",
   "execution_count": null,
   "id": "4df4fdee",
   "metadata": {},
   "outputs": [],
   "source": []
  }
 ],
 "metadata": {
  "kernelspec": {
   "display_name": "Python 3 (ipykernel)",
   "language": "python",
   "name": "python3"
  },
  "language_info": {
   "codemirror_mode": {
    "name": "ipython",
    "version": 3
   },
   "file_extension": ".py",
   "mimetype": "text/x-python",
   "name": "python",
   "nbconvert_exporter": "python",
   "pygments_lexer": "ipython3",
   "version": "3.9.7"
  }
 },
 "nbformat": 4,
 "nbformat_minor": 5
}
