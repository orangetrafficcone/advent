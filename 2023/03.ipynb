{
 "cells": [
  {
   "cell_type": "markdown",
   "id": "b2cf3ef1-4f46-48f1-94fd-2efba337884a",
   "metadata": {
    "tags": []
   },
   "source": [
    "# Day 03"
   ]
  },
  {
   "cell_type": "markdown",
   "id": "b3150a2a-6d21-4433-9583-1b0a1028c59d",
   "metadata": {
    "tags": []
   },
   "source": [
    "## Data"
   ]
  },
  {
   "cell_type": "code",
   "execution_count": 11,
   "id": "8b5b4834-823f-47b6-96c5-bcfd223822c3",
   "metadata": {
    "tags": []
   },
   "outputs": [],
   "source": [
    "from aocd import get_data\n",
    "\n",
    "real_data = get_data(year=2023, day=3)\n",
    "\n",
    "example_data = '''467..114..\n",
    "...*......\n",
    "..35..633.\n",
    "......#...\n",
    "617*......\n",
    ".....+.58.\n",
    "..592.....\n",
    "......755.\n",
    "...$.*....\n",
    ".664.598..'''\n",
    "\n",
    "example_lines = example_data.split('\\n')\n",
    "real_lines = real_data.split('\\n')"
   ]
  },
  {
   "cell_type": "code",
   "execution_count": 25,
   "id": "97e9c849",
   "metadata": {},
   "outputs": [
    {
     "data": {
      "text/plain": [
       "'Ideas:\\nNumbers list = [Number cords]\\nNumber cords look like (x, y, value, length)\\nParts list = [Part cords]\\nPart cords look like (x, y)\\nParts are:\\n    1. Not numbers\\n    2. Not periods'"
      ]
     },
     "execution_count": 25,
     "metadata": {},
     "output_type": "execute_result"
    }
   ],
   "source": [
    "'''Ideas:\n",
    "Numbers list = [Number cords]\n",
    "Number cords look like (x, y, value, length)\n",
    "Parts list = [Part cords]\n",
    "Part cords look like (x, y)\n",
    "Parts are:\n",
    "    1. Not numbers\n",
    "    2. Not periods'''"
   ]
  },
  {
   "cell_type": "code",
   "execution_count": 17,
   "id": "a34a750c",
   "metadata": {},
   "outputs": [],
   "source": [
    "from dataclasses import dataclass\n",
    "\n",
    "@dataclass\n",
    "class Label:\n",
    "    x: int\n",
    "    y :int\n",
    "    value: int\n",
    "    length: int\n",
    "\n",
    "@dataclass\n",
    "class Part:\n",
    "    x: int\n",
    "    y: int\n",
    "\n",
    "def parse_number(line, x, y):\n",
    "    value = 0\n",
    "\n",
    "    c = x\n",
    "    while c < len(line):\n",
    "        try:\n",
    "            digit = int(line[c])\n",
    "            value = value * 10 + digit\n",
    "        except:\n",
    "            break\n",
    "        c += 1\n",
    "\n",
    "    if value == 0:\n",
    "        return None\n",
    "    return Label(x, y, value, len(str(value)))\n",
    "\n",
    "# 467..114..\n",
    "assert parse_number(example_lines[0], 0, 0) == Label(0, 0, 467, 3)\n",
    "assert parse_number(example_lines[0], 5, 0) == Label(5, 0, 114, 3)\n",
    "assert parse_number(example_lines[0], 4, 0) == None\n"
   ]
  },
  {
   "cell_type": "markdown",
   "id": "7ea862db-0f07-4c42-9fca-25ce96cffaf4",
   "metadata": {},
   "source": [
    "## Part 1"
   ]
  },
  {
   "cell_type": "code",
   "execution_count": null,
   "metadata": {},
   "outputs": [],
   "source": []
  },
  {
   "cell_type": "markdown",
   "id": "1569400a-d129-4ec4-b636-83304b6c2ece",
   "metadata": {},
   "source": [
    "## Part 2"
   ]
  },
  {
   "cell_type": "code",
   "execution_count": null,
   "metadata": {},
   "outputs": [],
   "source": []
  }
 ],
 "metadata": {
  "kernelspec": {
   "display_name": "Python 3 (ipykernel)",
   "language": "python",
   "name": "python3"
  },
  "language_info": {
   "codemirror_mode": {
    "name": "ipython",
    "version": 3
   },
   "file_extension": ".py",
   "mimetype": "text/x-python",
   "name": "python",
   "nbconvert_exporter": "python",
   "pygments_lexer": "ipython3",
   "version": "3.10.13"
  }
 },
 "nbformat": 4,
 "nbformat_minor": 5
}
