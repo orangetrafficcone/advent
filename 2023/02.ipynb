{
 "cells": [
  {
   "cell_type": "markdown",
   "id": "b2cf3ef1-4f46-48f1-94fd-2efba337884a",
   "metadata": {
    "tags": []
   },
   "source": [
    "# Day 02"
   ]
  },
  {
   "cell_type": "markdown",
   "id": "b3150a2a-6d21-4433-9583-1b0a1028c59d",
   "metadata": {
    "tags": []
   },
   "source": [
    "## Data"
   ]
  },
  {
   "cell_type": "code",
   "execution_count": 1,
   "id": "8b5b4834-823f-47b6-96c5-bcfd223822c3",
   "metadata": {
    "tags": []
   },
   "outputs": [],
   "source": [
    "from aocd import get_data\n",
    "\n",
    "real_data = get_data(year=2023, day=2)\n",
    "\n",
    "example_data = '''Game 1: 3 blue, 4 red; 1 red, 2 green, 6 blue; 2 green\n",
    "Game 2: 1 blue, 2 green; 3 green, 4 blue, 1 red; 1 green, 1 blue\n",
    "Game 3: 8 green, 6 blue, 20 red; 5 blue, 4 red, 13 green; 5 green, 1 red\n",
    "Game 4: 1 green, 3 red, 6 blue; 3 green, 6 red; 3 green, 15 blue, 14 red\n",
    "Game 5: 6 red, 1 blue, 3 green; 2 blue, 1 red, 2 green'''"
   ]
  },
  {
   "cell_type": "code",
   "execution_count": 23,
   "metadata": {},
   "outputs": [
    {
     "data": {
      "text/plain": [
       "Game(id=1, samples=[{'red': 4, 'green': 0, 'blue': 3}, {'red': 1, 'green': 2, 'blue': 6}, {'red': 0, 'green': 2, 'blue': 0}])"
      ]
     },
     "execution_count": 23,
     "metadata": {},
     "output_type": "execute_result"
    }
   ],
   "source": [
    "import dataclasses\n",
    "\n",
    "@dataclasses.dataclass\n",
    "class Game():\n",
    "    id: int\n",
    "    samples : list\n",
    "\n",
    "def parse_draw(draw):\n",
    "    number, color = draw.strip().split(' ')\n",
    "    return (int(number), color)\n",
    "\n",
    "assert parse_draw('3 blue') == (3, 'blue')\n",
    "assert parse_draw(' 4 red') == (4, 'red')\n",
    "\n",
    "def parse_sample(sample):\n",
    "    draws = [parse_draw(draw) for draw in sample.split(',')]\n",
    "\n",
    "    result = {'red': 0, 'green': 0, 'blue': 0}\n",
    "    for number, color in draws:\n",
    "        result[color] = number\n",
    "    \n",
    "    return result\n",
    "\n",
    "assert parse_sample('1 red, 6 blue') == {\n",
    "    'red' : 1, 'green' : 0, 'blue' : 6\n",
    "}\n",
    "assert parse_sample('1 red, 2 green, 6 blue') == {\n",
    "    'red': 1,\n",
    "    'green': 2,\n",
    "    'blue': 6\n",
    "}\n",
    "\n",
    "def parse_samples(data):\n",
    "    return [parse_sample(sample) for sample in data.split(';')]\n",
    "    \n",
    "assert parse_samples('3 blue, 4 red; 1 red, 2 green, 6 blue; 2 green') == [\n",
    "{'red': 4, 'green': 0, 'blue': 3},\n",
    "{'red': 1, 'green': 2, 'blue': 6},\n",
    "{'red': 0, 'green': 2, 'blue': 0}]\n",
    "\n",
    "def parse_game(game):\n",
    "    '''Returns a dataclase Game()'''\n",
    "    name, samples = game.split(':')\n",
    "    id = int(name.split(' ')[1])\n",
    "    return Game(id, parse_samples(samples))\n",
    "\n",
    "def parse_games(data):\n",
    "    '''Returns a list of Game classes'''\n",
    "    return[parse_game(line) for line in data.split('\\n')]\n",
    "\n",
    "parse_game('Game 1: 3 blue, 4 red; 1 red, 2 green, 6 blue; 2 green')"
   ]
  },
  {
   "cell_type": "markdown",
   "id": "7ea862db-0f07-4c42-9fca-25ce96cffaf4",
   "metadata": {},
   "source": [
    "## Part 1"
   ]
  },
  {
   "cell_type": "code",
   "execution_count": 22,
   "metadata": {},
   "outputs": [
    {
     "data": {
      "text/plain": [
       "2563"
      ]
     },
     "execution_count": 22,
     "metadata": {},
     "output_type": "execute_result"
    }
   ],
   "source": [
    "def is_possible(game):\n",
    "    '''Determins if game {game} is possible,\n",
    "    and if so, returns the game id {game.id}.\n",
    "    Else returns 0'''\n",
    "    for sample in game.samples:\n",
    "        if sample['red'] > 12 or sample['green'] > 13 or sample['blue'] > 14:\n",
    "            return False\n",
    "    return True\n",
    "\n",
    "assert is_possible(Game(id=1, samples=[{'red': 4, 'green': 0, 'blue': 3}, \n",
    "    {'red': 1, 'green': 2, 'blue': 6},\n",
    "    {'red': 0, 'green': 2, 'blue': 0}])) == 1\n",
    "\n",
    "assert is_possible(Game(id=4, samples=[{'red': 10, 'green': 0, 'blue': 3}, \n",
    "    {'red': 5, 'green': 2, 'blue': 6},\n",
    "    {'red': 0, 'green': 15, 'blue': 0}])) == 0\n",
    "\n",
    "def add_possible(games):\n",
    "    games = parse_games(games)\n",
    "    total = sum(game.id for game in games if is_possible(game))\n",
    "    return total\n",
    "\n",
    "assert add_possible(example_data) == 8\n",
    "\n",
    "add_possible(real_data)"
   ]
  },
  {
   "cell_type": "markdown",
   "id": "1569400a-d129-4ec4-b636-83304b6c2ece",
   "metadata": {},
   "source": [
    "## Part 2"
   ]
  },
  {
   "cell_type": "code",
   "execution_count": 46,
   "metadata": {},
   "outputs": [
    {
     "data": {
      "text/plain": [
       "70768"
      ]
     },
     "execution_count": 46,
     "metadata": {},
     "output_type": "execute_result"
    }
   ],
   "source": [
    "def find_max(game):\n",
    "    '''Returns the minimum value needed\n",
    "    toplay game {game}, which you can\n",
    "    think of as the maximum value of\n",
    "    cubes of each type'''\n",
    "\n",
    "    result = {'red': 0, 'green': 0, 'blue': 0}\n",
    "    for sample in game.samples:\n",
    "        for color, number in sample.items():\n",
    "            result[color] = max(number, result[color])\n",
    "        \n",
    "    return result\n",
    "\n",
    "\n",
    "def find_maxs(games):\n",
    "    '''Returns the power of the maximum\n",
    "    numbers of cubes in the games {games}'''\n",
    "    parsed_games = parse_games(games)\n",
    "\n",
    "    return [find_max(game) for game in parsed_games]\n",
    "\n",
    "assert find_max(parse_game('Game 1: 3 blue, 4 red; 1 red, 2 green, 6 blue; 2 green')) == {'red': 4,\n",
    "    'green': 2,\n",
    "    'blue': 6}\n",
    "assert find_maxs(example_data) == [{'red': 4, 'green': 2, 'blue': 6},\n",
    " {'red': 1, 'green': 3, 'blue': 4},\n",
    " {'red': 20, 'green': 13, 'blue': 6},\n",
    " {'red': 14, 'green': 3, 'blue': 15},\n",
    " {'red': 6, 'green': 3, 'blue': 2}]\n",
    "\n",
    "def power(games):\n",
    "    '''Returns the sum of the power of\n",
    "    each max for every max in maxs {maxs}'''\n",
    "    powers = []\n",
    "    maxes = find_maxs(games)\n",
    "    for max in maxes:\n",
    "        total = 1\n",
    "        for color, number in max.items():\n",
    "            total = total * number\n",
    "        powers.append(total)\n",
    "    return sum(powers)\n",
    "\n",
    "assert power(example_data) == 2286\n",
    "power(real_data)"
   ]
  }
 ],
 "metadata": {
  "kernelspec": {
   "display_name": "Python 3 (ipykernel)",
   "language": "python",
   "name": "python3"
  },
  "language_info": {
   "codemirror_mode": {
    "name": "ipython",
    "version": 3
   },
   "file_extension": ".py",
   "mimetype": "text/x-python",
   "name": "python",
   "nbconvert_exporter": "python",
   "pygments_lexer": "ipython3",
   "version": "3.10.13"
  }
 },
 "nbformat": 4,
 "nbformat_minor": 5
}
