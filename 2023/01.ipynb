{
 "cells": [
  {
   "cell_type": "markdown",
   "id": "b2cf3ef1-4f46-48f1-94fd-2efba337884a",
   "metadata": {
    "tags": []
   },
   "source": [
    "# Day 01"
   ]
  },
  {
   "cell_type": "markdown",
   "id": "b3150a2a-6d21-4433-9583-1b0a1028c59d",
   "metadata": {
    "tags": []
   },
   "source": [
    "## Data"
   ]
  },
  {
   "cell_type": "code",
   "execution_count": 43,
   "id": "8b5b4834-823f-47b6-96c5-bcfd223822c3",
   "metadata": {
    "tags": []
   },
   "outputs": [],
   "source": [
    "from aocd import get_data\n",
    "\n",
    "real_data = get_data(year=2023, day=1)\n",
    "\n",
    "example_data = '''1abc2\n",
    "pqr3stu8vwx\n",
    "a1b2c3d4e5f\n",
    "treb7uchet'''"
   ]
  },
  {
   "cell_type": "markdown",
   "id": "7ea862db-0f07-4c42-9fca-25ce96cffaf4",
   "metadata": {},
   "source": [
    "## Part 1"
   ]
  },
  {
   "cell_type": "code",
   "execution_count": 44,
   "id": "2b232bc6-4fa0-4013-829c-49013cb5c622",
   "metadata": {
    "tags": []
   },
   "outputs": [],
   "source": [
    "def parse_lines(lines):\n",
    "    return lines.split('\\n')\n",
    "\n",
    "\n",
    "def find_numbers(line):\n",
    "    \"\"\"Tells apart the numbers and letters\"\"\"\n",
    "    digits = []\n",
    "    \n",
    "    for letter in line:\n",
    "        try:\n",
    "            digit = int(letter)\n",
    "            digits.append(digit)\n",
    "            \n",
    "        except ValueError:\n",
    "            pass\n",
    "    \n",
    "    return digits[0] * 10 + digits[-1]\n",
    "\n",
    "\n",
    "def add_numbers(data):\n",
    "    '''Adds up all of the values of the lines'''\n",
    "    lines = parse_lines(data)\n",
    "    return sum(find_numbers(line) for line in lines)\n",
    "    \n",
    "\n",
    "assert find_numbers('a1b2c3d4e5f') == 15\n",
    "assert find_numbers('treb7uchet') == 77\n",
    "assert add_numbers(example_data) == 142"
   ]
  },
  {
   "cell_type": "code",
   "execution_count": 45,
   "id": "9c1b13fb-9269-4c95-a5c5-e6a63bf60513",
   "metadata": {},
   "outputs": [
    {
     "data": {
      "text/plain": [
       "54927"
      ]
     },
     "execution_count": 45,
     "metadata": {},
     "output_type": "execute_result"
    }
   ],
   "source": [
    "add_numbers(real_data)"
   ]
  },
  {
   "cell_type": "markdown",
   "id": "1569400a-d129-4ec4-b636-83304b6c2ece",
   "metadata": {},
   "source": [
    "## Part 2"
   ]
  },
  {
   "cell_type": "code",
   "execution_count": 46,
   "id": "a16c98ed-afc7-4d5f-a3d5-49c651067981",
   "metadata": {
    "tags": []
   },
   "outputs": [],
   "source": [
    "example_data = '''two1nine\n",
    "eightwothree\n",
    "abcone2threexyz\n",
    "xtwone3four\n",
    "4nineeightseven2\n",
    "zoneight234\n",
    "7pqrstsixteen'''"
   ]
  },
  {
   "cell_type": "code",
   "execution_count": 48,
   "id": "4fbdfaee-0d21-4a4c-99cd-b23c1d3a2df2",
   "metadata": {},
   "outputs": [
    {
     "data": {
      "text/plain": [
       "54581"
      ]
     },
     "execution_count": 48,
     "metadata": {},
     "output_type": "execute_result"
    }
   ],
   "source": [
    "spelled_numbers = {\n",
    "    '1' : 1,\n",
    "    '2' : 2,\n",
    "    '3' : 3,\n",
    "    '4' : 4,\n",
    "    '5' : 5,\n",
    "    '6' : 6,\n",
    "    '7' : 7,\n",
    "    '8' : 8,\n",
    "    '9' : 9,\n",
    "    'one' : 1,\n",
    "    'two' : 2,\n",
    "    'three' : 3,\n",
    "    'four' : 4,\n",
    "    'five' : 5,\n",
    "    'six' : 6,\n",
    "    'seven' : 7,\n",
    "    'eight' : 8,\n",
    "    'nine' : 9\n",
    "}\n",
    "\n",
    "def match(line, start, pattern):\n",
    "    '''Finds if there is a pattern {pattern} in\n",
    "    the line {line}, starting from start {start}'''\n",
    "    i = start\n",
    "    j = 0\n",
    "    output = []\n",
    "\n",
    "    while True:\n",
    "        if line[i] == pattern[j]:\n",
    "            j += 1\n",
    "            i += 1\n",
    "        else:\n",
    "            return False\n",
    "        if j == len(pattern):\n",
    "            return True\n",
    "        if i == len(line):\n",
    "            return False\n",
    "\n",
    "assert match('abc', 0, 'abcd') == False\n",
    "assert match('abc', 2, 'a') == False\n",
    "assert match('abcba', 3, 'ba') == True\n",
    "assert match('1234', 0, '123') == True\n",
    "\n",
    "def match_any(line, start, patterns):\n",
    "    '''Returns the value of the key in dict {patterns}\n",
    "    that matches {line} at position {start}. If no\n",
    "    patterns match, return none'''\n",
    "    for pattern, value in patterns.items():\n",
    "        if match(line, start, pattern) == True:\n",
    "            return value\n",
    "    return None\n",
    "\n",
    "assert match_any('two1nine', 0, spelled_numbers) == 2\n",
    "assert match_any('two1nine', 5, spelled_numbers) == None\n",
    "assert match_any('two1nine', 3, spelled_numbers) == 1\n",
    "assert match_any('xtwone3four', 1, spelled_numbers) == 2\n",
    "\n",
    "def match_range(line, patterns):\n",
    "    '''Matches the first and last of the line {lines},\n",
    "    and returns their added value'''\n",
    "    total = 0\n",
    "    i = 0\n",
    "    while True:\n",
    "        o = match_any(line, i, patterns)\n",
    "        if o != None:\n",
    "            total += o\n",
    "            return total\n",
    "        i += 1\n",
    "\n",
    "match_range('threeight', spelled_numbers)\n",
    "##match_end('onethreegg', 0, 'egg')\n",
    "\n",
    "def find_matchs(line, patterns):\n",
    "    numbers = []\n",
    "\n",
    "    for i, _ in enumerate(line):\n",
    "        for pattern in patterns:\n",
    "            if match(line, i, pattern) == True:\n",
    "                numbers.append(patterns[pattern])\n",
    "    \n",
    "    try:\n",
    "        return numbers[0] * 10 + numbers[-1]\n",
    "    except:\n",
    "        print(line)\n",
    "\n",
    "def find_total(data, patterns):\n",
    "    total = 0\n",
    "    lines = data.split('\\n')\n",
    "    for line in lines:\n",
    "        total += find_matchs(line, patterns)\n",
    "    return total\n",
    "\n",
    "assert find_total(example_data, spelled_numbers) == 281\n",
    "find_total(real_data, spelled_numbers)"
   ]
  }
 ],
 "metadata": {
  "kernelspec": {
   "display_name": "Python 3 (ipykernel)",
   "language": "python",
   "name": "python3"
  },
  "language_info": {
   "codemirror_mode": {
    "name": "ipython",
    "version": 3
   },
   "file_extension": ".py",
   "mimetype": "text/x-python",
   "name": "python",
   "nbconvert_exporter": "python",
   "pygments_lexer": "ipython3",
   "version": "3.10.13"
  }
 },
 "nbformat": 4,
 "nbformat_minor": 5
}
