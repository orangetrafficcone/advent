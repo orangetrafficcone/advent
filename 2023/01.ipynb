{
 "cells": [
  {
   "cell_type": "markdown",
   "id": "b2cf3ef1-4f46-48f1-94fd-2efba337884a",
   "metadata": {
    "tags": []
   },
   "source": [
    "# Day 01"
   ]
  },
  {
   "cell_type": "markdown",
   "id": "b3150a2a-6d21-4433-9583-1b0a1028c59d",
   "metadata": {
    "tags": []
   },
   "source": [
    "## Data"
   ]
  },
  {
   "cell_type": "code",
   "execution_count": 19,
   "id": "8b5b4834-823f-47b6-96c5-bcfd223822c3",
   "metadata": {
    "tags": []
   },
   "outputs": [],
   "source": [
    "from aocd import get_data\n",
    "\n",
    "real_data = get_data(year=2023, day=1)\n",
    "\n",
    "example_data = '''1abc2\n",
    "pqr3stu8vwx\n",
    "a1b2c3d4e5f\n",
    "treb7uchet'''"
   ]
  },
  {
   "cell_type": "markdown",
   "id": "7ea862db-0f07-4c42-9fca-25ce96cffaf4",
   "metadata": {},
   "source": [
    "## Part 1"
   ]
  },
  {
   "cell_type": "code",
   "execution_count": 24,
   "id": "2b232bc6-4fa0-4013-829c-49013cb5c622",
   "metadata": {
    "tags": []
   },
   "outputs": [],
   "source": [
    "def parse_lines(lines):\n",
    "    return lines.split('\\n')\n",
    "\n",
    "\n",
    "def find_numbers(line):\n",
    "    \"\"\"Tells apart the numbers and letters\"\"\"\n",
    "    digits = []\n",
    "    \n",
    "    for letter in line:\n",
    "        try:\n",
    "            digit = int(letter)\n",
    "            digits.append(digit)\n",
    "            \n",
    "        except ValueError:\n",
    "            pass\n",
    "    \n",
    "    return digits[0] * 10 + digits[-1]\n",
    "\n",
    "\n",
    "def add_numbers(data):\n",
    "    '''Adds up all of the values of the lines'''\n",
    "    lines = parse_lines(data)\n",
    "    return sum(find_numbers(line) for line in lines)\n",
    "    \n",
    "\n",
    "assert find_numbers('a1b2c3d4e5f') == 15\n",
    "assert find_numbers('treb7uchet') == 77\n",
    "assert add_numbers(example_data) == 142"
   ]
  },
  {
   "cell_type": "code",
   "execution_count": null,
   "id": "9c1b13fb-9269-4c95-a5c5-e6a63bf60513",
   "metadata": {},
   "outputs": [],
   "source": [
    "add_numbers(real_data)"
   ]
  },
  {
   "cell_type": "markdown",
   "id": "1569400a-d129-4ec4-b636-83304b6c2ece",
   "metadata": {},
   "source": [
    "## Part 2"
   ]
  },
  {
   "cell_type": "code",
   "execution_count": 25,
   "id": "a16c98ed-afc7-4d5f-a3d5-49c651067981",
   "metadata": {
    "tags": []
   },
   "outputs": [],
   "source": [
    "example_data = '''two1nine\n",
    "eightwothree\n",
    "abcone2threexyz\n",
    "xtwone3four\n",
    "4nineeightseven2\n",
    "zoneight234\n",
    "7pqrstsixteen'''"
   ]
  },
  {
   "cell_type": "code",
   "execution_count": null,
   "id": "4fbdfaee-0d21-4a4c-99cd-b23c1d3a2df2",
   "metadata": {},
   "outputs": [],
   "source": [
    "spelled_numbers = {\n",
    "    'one' : 1\n",
    "    'two' : 2\n",
    "}\n",
    "\n",
    "def parse(data):\n",
    "    '''parses the data into numbers by\n",
    "    checking if the first letter is a \n",
    "    part of a spelled out number (one, \n",
    "    two, three...). If not, continue\n",
    "    to the next charecter. If so, look\n",
    "    up the value in the 'spelled_numbers\n",
    "    dictionary'''\n",
    "    pass"
   ]
  }
 ],
 "metadata": {
  "kernelspec": {
   "display_name": "Python 3 (ipykernel)",
   "language": "python",
   "name": "python3"
  },
  "language_info": {
   "codemirror_mode": {
    "name": "ipython",
    "version": 3
   },
   "file_extension": ".py",
   "mimetype": "text/x-python",
   "name": "python",
   "nbconvert_exporter": "python",
   "pygments_lexer": "ipython3",
   "version": "3.11.5"
  }
 },
 "nbformat": 4,
 "nbformat_minor": 5
}
