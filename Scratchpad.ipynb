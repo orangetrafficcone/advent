{
 "cells": [
  {
   "cell_type": "code",
   "execution_count": 1,
   "id": "5c8d74da",
   "metadata": {},
   "outputs": [
    {
     "data": {
      "text/plain": [
       "'095b'"
      ]
     },
     "execution_count": 1,
     "metadata": {},
     "output_type": "execute_result"
    }
   ],
   "source": [
    "def reverse_string(s):\n",
    "  # Create a list of characters in the string\n",
    "  chars = list(s)\n",
    "\n",
    "  # Reverse the list of characters\n",
    "  chars.reverse()\n",
    "\n",
    "  # Create a new string by joining every other character\n",
    "  # from the reversed list\n",
    "  return ''.join([chars[i] for i in range(0, len(chars), 2)])\n",
    "\n",
    "\n",
    "reverse_string('4b756970')"
   ]
  }
 ],
 "metadata": {
  "kernelspec": {
   "display_name": "Python 3 (ipykernel)",
   "language": "python",
   "name": "python3"
  },
  "language_info": {
   "codemirror_mode": {
    "name": "ipython",
    "version": 3
   },
   "file_extension": ".py",
   "mimetype": "text/x-python",
   "name": "python",
   "nbconvert_exporter": "python",
   "pygments_lexer": "ipython3",
   "version": "3.9.7"
  }
 },
 "nbformat": 4,
 "nbformat_minor": 5
}
