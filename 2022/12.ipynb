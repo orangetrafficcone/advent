{
 "cells": [
  {
   "cell_type": "markdown",
   "id": "e97c5e4b",
   "metadata": {},
   "source": [
    "# Day 12 - Hill Climbing Algorithm\n",
    "\n",
    "## Data"
   ]
  },
  {
   "cell_type": "code",
   "execution_count": 1,
   "id": "c8f69dad",
   "metadata": {
    "scrolled": true
   },
   "outputs": [
    {
     "name": "stdout",
     "output_type": "stream",
     "text": [
      "Sabqponm\n",
      "abcryxxl\n",
      "accszExk\n",
      "acctuvwj\n",
      "abdefghi\n"
     ]
    }
   ],
   "source": [
    "example_data = \"\"\"\n",
    "Sabqponm\n",
    "abcryxxl\n",
    "accszExk\n",
    "acctuvwj\n",
    "abdefghi\n",
    "\"\"\".strip()\n",
    "\n",
    "print(example_data)"
   ]
  },
  {
   "cell_type": "code",
   "execution_count": 2,
   "id": "ef9a9a5d",
   "metadata": {
    "scrolled": true
   },
   "outputs": [
    {
     "name": "stdout",
     "output_type": "stream",
     "text": [
      "abcccccccaaaaaccccaaaaaaaccccccccccccccccccccccccccccccccccccaaaaa\n",
      "abaacccaaaaaaccccccaaaaaaaaaaaaaccccccccccccccccccccccccccccaaaaaa\n",
      "abaacccaaaaaaaccccaaaaaaaaaaaaaacccccccccccccaacccccccccccccaaaaaa\n",
      "abaacccccaaaaaacaaaaaaaaaaaaaaaacccccccccccccaacccccccccccccacacaa\n",
      "abaccccccaaccaacaaaaaaaaaacccaacccccccccccccaaacccccccccccccccccaa\n",
      "abcccccccaaaacccaaaaaaaaacccccccccccccaaacccaaacccccccccccccccccaa\n",
      "abccccccccaaaccccccccaaaacccccccccccccaaaaacaaaccacacccccccccccccc\n",
      "abccccccccaaacaaacccccaaacccccccccccccaaaaaaajjjjjkkkcccccaacccccc\n",
      "abcccccaaaaaaaaaacccccaaccccccccccciiiiiijjjjjjjjjkkkcaaaaaacccccc\n",
      "abcccccaaaaaaaaacccccccccccccccccciiiiiiijjjjjjjrrkkkkaaaaaaaacccc\n",
      "abcccccccaaaaaccccccccccccccccccciiiiiiiijjjjrrrrrppkkkaaaaaaacccc\n",
      "abcccaaccaaaaaacccccccccccaacaaciiiiqqqqqrrrrrrrrpppkkkaaaaaaacccc\n",
      "abccaaaaaaaaaaaaccccacccccaaaaaciiiqqqqqqrrrrrruuppppkkaaaaacccccc\n",
      "abcccaaaaaaacaaaacaaacccccaaaaaahiiqqqqtttrrruuuuupppkkaaaaacccccc\n",
      "abcaaaaaaaccccaaaaaaacccccaaaaaahhqqqtttttuuuuuuuuuppkkkccaacccccc\n",
      "abcaaaaaaaaccccaaaaaacccccaaaaaahhqqqtttttuuuuxxuuuppkklcccccccccc\n",
      "abcaaaaaaaacaaaaaaaaaaacccccaaachhhqqtttxxxuuxxyyuuppllllccccccccc\n",
      "abcccaaacaccaaaaaaaaaaaccccccccchhhqqtttxxxxxxxyuupppplllccccccccc\n",
      "abaacaacccccaaaaaaaaaaaccccccccchhhqqtttxxxxxxyyvvvpppplllcccccccc\n",
      "abaacccccccccaaaaaaacccccccccccchhhpppttxxxxxyyyvvvvpqqqlllccccccc\n",
      "SbaaccccccaaaaaaaaaaccccccccccchhhppptttxxxEzzyyyyvvvqqqlllccccccc\n",
      "abaaaaccccaaaaaaaaacccccccccccchhhpppsssxxxyyyyyyyyvvvqqqlllcccccc\n",
      "abaaaacccccaaaaaaaacccccccccccgggpppsssxxyyyyyyyyyvvvvqqqlllcccccc\n",
      "abaaacccaaaacaaaaaaaccccccccccgggpppsswwwwwwyyyvvvvvvqqqllllcccccc\n",
      "abaaccccaaaacaaccaaaacccccccccgggppssswwwwwwyyywvvvvqqqqmmmccccccc\n",
      "abaaccccaaaacaaccaaaaccaaaccccggpppssssswwswwyywvqqqqqqmmmmccccccc\n",
      "abcccccccaaacccccaaacccaaacaccgggpppssssssswwwwwwrqqmmmmmccccccccc\n",
      "abcccccccccccccccccccaacaaaaacgggppooosssssrwwwwrrrmmmmmcccccccccc\n",
      "abcccccccccccccccccccaaaaaaaacggggoooooooorrrwwwrrnmmmdddccaaccccc\n",
      "abaccccccccccccaacccccaaaaaccccggggoooooooorrrrrrrnmmddddcaaaccccc\n",
      "abaccccccccaaaaaaccccccaaaaaccccggfffffooooorrrrrnnndddddaaaaccccc\n",
      "abaacccccccaaaaaacccccaaaaaacccccffffffffoonrrrrrnnndddaaaaaaacccc\n",
      "abaaccccccccaaaaaaaccacaaaacccccccccffffffonnnnnnnndddaaaaaaaacccc\n",
      "abccccccccccaaaaaaaaaaaaaaaccccccccccccfffennnnnnnddddccaaaccccccc\n",
      "abcccccccccaaaaaaacaaaaaaaaaacccccccccccffeennnnnedddccccaaccccccc\n",
      "abcccccccccaaaaaaccaaaaaaaaaaaccccccccccaeeeeeeeeeedcccccccccccccc\n",
      "abccccccccccccaaaccaaaaaaaaaaaccccccccccaaaeeeeeeeecccccccccccccaa\n",
      "abcccccccaaccccccccaaaaaaaacccccccccccccaaaceeeeecccccccccccccccaa\n",
      "abaaccaaaaaaccccccccaaaaaaaacccccccccccccaccccaaacccccccccccaaacaa\n",
      "abaaccaaaaacccccaaaaaaaaaaacccccccccccccccccccccacccccccccccaaaaaa\n",
      "abaccaaaaaaaaccaaaaaaaaaaaaaacccccccccccccccccccccccccccccccaaaaaa\n"
     ]
    }
   ],
   "source": [
    "import aocd\n",
    "raw_data = aocd.get_data(year=2022, day=12)\n",
    "print(raw_data)"
   ]
  },
  {
   "cell_type": "code",
   "execution_count": 3,
   "id": "2070ab9e",
   "metadata": {},
   "outputs": [],
   "source": [
    "from dataclasses import dataclass\n",
    "\n",
    "directions = [(-1, 0), (0, -1), (1, 0), (0, 1)]\n",
    "\n",
    "@dataclass\n",
    "class Map(object):\n",
    "    elevations: list[list[int]]\n",
    "    start: tuple[int, int]\n",
    "    end: tuple[int, int]\n",
    "        \n",
    "    def __post_init__(self):\n",
    "        self.height = len(self.elevations)\n",
    "        self.width = len(self.elevations[0]) \n",
    "        \n",
    "    def __getitem__(self, key):\n",
    "        x, y = key\n",
    "        return self.elevations[y][x]\n",
    "        \n",
    "    def find_neighbors(self, x, y):\n",
    "        for dx, dy in directions:\n",
    "            nx = dx + x\n",
    "            ny = dy + y\n",
    "            \n",
    "            if nx >= 0 and ny >= 0:\n",
    "                if nx < self.width and ny < self.height:\n",
    "                    yield (nx, ny)"
   ]
  },
  {
   "cell_type": "markdown",
   "id": "e9e9dba5",
   "metadata": {},
   "source": [
    "## Parsing"
   ]
  },
  {
   "cell_type": "code",
   "execution_count": 4,
   "id": "c4f1b169",
   "metadata": {},
   "outputs": [
    {
     "name": "stdout",
     "output_type": "stream",
     "text": [
      "Map(elevations=[[0, 0, 1, 16, 15, 14, 13, 12], [0, 1, 2, 17, 24, 23, 23, 11], [0, 2, 2, 18, 25, 25, 23, 10], [0, 2, 2, 19, 20, 21, 22, 9], [0, 1, 3, 4, 5, 6, 7, 8]], start=(0, 0), end=(5, 2))\n"
     ]
    }
   ],
   "source": [
    "def parse(data, debug = False):\n",
    "    \"\"\"Parse the input data, returning a Map object.\"\"\"\n",
    "    elevations = []\n",
    "    \n",
    "    for row, line in enumerate(data.split('\\n')):\n",
    "        section = []\n",
    "        \n",
    "        for col, elevation in enumerate(line):\n",
    "            \n",
    "            if ord(elevation) >= ord('a'):\n",
    "                section.append(ord(elevation) - ord('a'))\n",
    "            else:                \n",
    "                if elevation == 'S':\n",
    "                    start = (col, row)\n",
    "                    section.append(0)\n",
    "                else:\n",
    "                    end = (col, row)\n",
    "                    section.append(25)\n",
    "                            \n",
    "        elevations.append(section)\n",
    "    \n",
    "    return Map(elevations, start, end)\n",
    "    \n",
    "example_map = parse(example_data)\n",
    "real_map = parse(raw_data)\n",
    "\n",
    "print(example_map)"
   ]
  },
  {
   "cell_type": "markdown",
   "id": "1701750f",
   "metadata": {},
   "source": [
    "## Part 1"
   ]
  },
  {
   "cell_type": "code",
   "execution_count": 30,
   "id": "3b1f659b",
   "metadata": {},
   "outputs": [
    {
     "data": {
      "text/plain": [
       "339"
      ]
     },
     "execution_count": 30,
     "metadata": {},
     "output_type": "execute_result"
    }
   ],
   "source": [
    "def find_paths(map, x, y, visited={}, distance=0, debug = False, inverse = False):\n",
    "    \"\"\"\n",
    "    Finds the shortest distance to all points in the provided map.\n",
    "    If inverse is true, we are traverse teh paths from highest elevation to lowest.\n",
    "    \"\"\"\n",
    "    if (x, y) in visited and visited[(x, y)] <= distance:\n",
    "        return\n",
    "    if debug:\n",
    "        print(f\"Visiting {x}, {y} with distance {distance}\")\n",
    "    \n",
    "    visited[(x, y)] = distance\n",
    "\n",
    "    for nx, ny in map.find_neighbors(x, y):\n",
    "        slope = map[(nx, ny)] - map[(x,y)]\n",
    "        if inverse:\n",
    "            slope = -slope\n",
    "        \n",
    "        if slope <= 1:\n",
    "            find_paths(map, nx, ny, visited, distance+1, debug, inverse)\n",
    "\n",
    "            \n",
    "def calc_shortest_path(map):\n",
    "    distances = {}\n",
    "    find_paths(map, map.start[0], map.start[1], distances)\n",
    "    return distances[map.end]\n",
    "\n",
    "assert calc_shortest_path(example_map) == 31\n",
    "calc_shortest_path(real_map)"
   ]
  },
  {
   "cell_type": "markdown",
   "id": "1ec7a24f",
   "metadata": {},
   "source": [
    "## Part 2"
   ]
  },
  {
   "cell_type": "code",
   "execution_count": 33,
   "id": "c951758d",
   "metadata": {},
   "outputs": [
    {
     "data": {
      "text/plain": [
       "332"
      ]
     },
     "execution_count": 33,
     "metadata": {},
     "output_type": "execute_result"
    }
   ],
   "source": [
    "def calc_hiking_trail(map):\n",
    "    distances = {}\n",
    "    find_paths(map, map.end[0], map.end[1], distances, inverse=True)\n",
    "\n",
    "    down_hill_distances = []\n",
    "    \n",
    "    for x in range(map.width):\n",
    "        for y in range(map.height):\n",
    "            if map[x, y] == 0 and (x, y) in distances:\n",
    "                down_hill_distances.append(distances[x, y])\n",
    "    \n",
    "    return min(down_hill_distances)\n",
    "\n",
    "calc_hiking_trail(example_map)# == 31\n",
    "calc_hiking_trail(real_map)"
   ]
  }
 ],
 "metadata": {
  "kernelspec": {
   "display_name": "Python 3 (ipykernel)",
   "language": "python",
   "name": "python3"
  },
  "language_info": {
   "codemirror_mode": {
    "name": "ipython",
    "version": 3
   },
   "file_extension": ".py",
   "mimetype": "text/x-python",
   "name": "python",
   "nbconvert_exporter": "python",
   "pygments_lexer": "ipython3",
   "version": "3.9.7"
  }
 },
 "nbformat": 4,
 "nbformat_minor": 5
}
