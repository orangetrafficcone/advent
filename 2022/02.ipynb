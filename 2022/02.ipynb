{
 "cells": [
  {
   "cell_type": "markdown",
   "id": "5956137d",
   "metadata": {},
   "source": [
    "# Day 2 - Rock Paper Scissors\n",
    "## Data"
   ]
  },
  {
   "cell_type": "code",
   "execution_count": 3,
   "id": "f91cd7a5",
   "metadata": {},
   "outputs": [
    {
     "data": {
      "text/plain": [
       "[('A', 'Y'), ('B', 'X'), ('C', 'Z')]"
      ]
     },
     "execution_count": 3,
     "metadata": {},
     "output_type": "execute_result"
    }
   ],
   "source": [
    "example_rounds = [\n",
    "    ('A', 'Y'),\n",
    "    ('B', 'X'),\n",
    "    ('C', 'Z')    \n",
    "]\n",
    "example_rounds"
   ]
  },
  {
   "cell_type": "code",
   "execution_count": 13,
   "id": "124559e0",
   "metadata": {
    "scrolled": true
   },
   "outputs": [
    {
     "data": {
      "text/plain": [
       "('A', 'Z')"
      ]
     },
     "execution_count": 13,
     "metadata": {},
     "output_type": "execute_result"
    }
   ],
   "source": [
    "from aocd import get_data\n",
    "\n",
    "raw_data = get_data(year=2022, day=2)\n",
    "\n",
    "real_rounds = [tuple(line.split(' ')) for line in raw_data.split('\\n')]\n",
    "\n",
    "real_rounds[0]"
   ]
  },
  {
   "cell_type": "markdown",
   "id": "ba687cc8",
   "metadata": {},
   "source": [
    "## Part 1"
   ]
  },
  {
   "cell_type": "code",
   "execution_count": 17,
   "id": "6f9b1ed9",
   "metadata": {},
   "outputs": [
    {
     "data": {
      "text/plain": [
       "15"
      ]
     },
     "metadata": {},
     "output_type": "display_data"
    },
    {
     "data": {
      "text/plain": [
       "11150"
      ]
     },
     "metadata": {},
     "output_type": "display_data"
    }
   ],
   "source": [
    "shape_scores = {\n",
    "    'A': 1,\n",
    "    'B': 2,\n",
    "    'C': 3,\n",
    "}\n",
    "\n",
    "match_scores = {\n",
    "    ('A', 'A'): 3,\n",
    "    ('A', 'B'): 6,\n",
    "    ('A', 'C'): 0,\n",
    "\n",
    "    ('B', 'A'): 0,\n",
    "    ('B', 'B'): 3,\n",
    "    ('B', 'C'): 6,\n",
    "\n",
    "    ('C', 'A'): 6,\n",
    "    ('C', 'B'): 0,\n",
    "    ('C', 'C'): 3\n",
    "} \n",
    "\n",
    "p1_strategy = {\n",
    "    ('A', 'X'): 'A',\n",
    "    ('A', 'Y'): 'B',\n",
    "    ('A', 'Z'): 'C',\n",
    "\n",
    "    ('B', 'X'): 'A',\n",
    "    ('B', 'Y'): 'B',\n",
    "    ('B', 'Z'): 'C',\n",
    "\n",
    "    ('C', 'X'): 'A',\n",
    "    ('C', 'Y'): 'B',\n",
    "    ('C', 'Z'): 'C'\n",
    "}\n",
    "\n",
    "def calc_total_score(rounds, strategy):\n",
    "    total_shape_score = 0\n",
    "    total_match_score = 0\n",
    "        \n",
    "    for round in rounds:\n",
    "        their_pick = round[0]\n",
    "        our_pick = strategy[round]\n",
    "        \n",
    "        # calculate the number of points for playing a shape\n",
    "        total_shape_score += shape_scores[our_pick]\n",
    "        \n",
    "        # calculate the number of points from the outcome of a match\n",
    "        total_match_score += match_scores[(their_pick, our_pick)]\n",
    "        \n",
    "    \n",
    "    return total_shape_score + total_match_score\n",
    "\n",
    "display(calc_total_score(example_rounds, p1_strategy))\n",
    "\n",
    "display(calc_total_score(real_rounds, p1_strategy))"
   ]
  },
  {
   "cell_type": "markdown",
   "id": "86d069a3",
   "metadata": {},
   "source": [
    "## Part 2"
   ]
  },
  {
   "cell_type": "code",
   "execution_count": 18,
   "id": "fcdd5419",
   "metadata": {},
   "outputs": [
    {
     "data": {
      "text/plain": [
       "12"
      ]
     },
     "metadata": {},
     "output_type": "display_data"
    },
    {
     "data": {
      "text/plain": [
       "8295"
      ]
     },
     "metadata": {},
     "output_type": "display_data"
    }
   ],
   "source": [
    "p2_strategy = {\n",
    "    ('A', 'X'): 'C',\n",
    "    ('A', 'Y'): 'A',\n",
    "    ('A', 'Z'): 'B',\n",
    "\n",
    "    ('B', 'X'): 'A',\n",
    "    ('B', 'Y'): 'B',\n",
    "    ('B', 'Z'): 'C',\n",
    "\n",
    "    ('C', 'X'): 'B',\n",
    "    ('C', 'Y'): 'C',\n",
    "    ('C', 'Z'): 'A'\n",
    "}\n",
    "\n",
    "\n",
    "display(calc_total_score(example_rounds, p2_strategy))\n",
    "\n",
    "display(calc_total_score(real_rounds, p2_strategy))"
   ]
  }
 ],
 "metadata": {
  "kernelspec": {
   "display_name": "Python 3 (ipykernel)",
   "language": "python",
   "name": "python3"
  },
  "language_info": {
   "codemirror_mode": {
    "name": "ipython",
    "version": 3
   },
   "file_extension": ".py",
   "mimetype": "text/x-python",
   "name": "python",
   "nbconvert_exporter": "python",
   "pygments_lexer": "ipython3",
   "version": "3.9.7"
  }
 },
 "nbformat": 4,
 "nbformat_minor": 5
}
