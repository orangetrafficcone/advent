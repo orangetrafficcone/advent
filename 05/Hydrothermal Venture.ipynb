{
 "cells": [
  {
   "cell_type": "markdown",
   "id": "a376049c",
   "metadata": {},
   "source": [
    "# part 1"
   ]
  },
  {
   "cell_type": "code",
   "execution_count": 1,
   "id": "89106a68",
   "metadata": {},
   "outputs": [
    {
     "name": "stdout",
     "output_type": "stream",
     "text": [
      "Some data: ['427,523 -> 427,790', '94,639 -> 94,951', '757,371 -> 465,663', '503,935 -> 503,148', '655,565 -> 655,951', '167,754 -> 710,211', '634,433 -> 245,433', '449,889 -> 449,509', '152,753 -> 207,808', '301,90 -> 301,982']\n",
      "Number of lines: 500\n"
     ]
    }
   ],
   "source": [
    "with open('input.txt', 'r') as f:\n",
    "    lines = f.read().splitlines()\n",
    "    \n",
    "print(f'Some data: {lines[0:10]}')\n",
    "print(f'Number of lines: {len(lines)}')"
   ]
  },
  {
   "cell_type": "code",
   "execution_count": 12,
   "id": "0d911f16",
   "metadata": {},
   "outputs": [],
   "source": [
    "from dataclasses import dataclass\n",
    "\n",
    "@dataclass\n",
    "class Map:\n",
    "    cols: int\n",
    "    rows: int\n",
    "        \n",
    "    def __post_init__(self):\n",
    "        self.map = [[0 for c in range(self.cols)] for r in range(self.rows)]\n",
    "    \n",
    "    def print(self, row, col):\n",
    "        \"\"\"Prints a 10x10 portion of the map starting at row and col.\"\"\"\n",
    "        for r in range(10):\n",
    "            print(self.map[row + r][col:col + 10])\n",
    "        \n",
    "    def plot(self, x, y):\n",
    "        self.map[y][x] += 1\n",
    "        \n",
    "    def score(self):\n",
    "        \"\"\"Return the number of points >= 2.\"\"\"\n",
    "        score = 0\n",
    "        for r in range(self.rows):\n",
    "            for c in range(self.cols):\n",
    "                if self.map[r][c] >= 2:\n",
    "                    score += 1\n",
    "        return score"
   ]
  },
  {
   "cell_type": "code",
   "execution_count": 38,
   "id": "e0a955b3",
   "metadata": {},
   "outputs": [
    {
     "data": {
      "text/plain": [
       "['__annotations__',\n",
       " '__class__',\n",
       " '__dataclass_fields__',\n",
       " '__dataclass_params__',\n",
       " '__delattr__',\n",
       " '__dict__',\n",
       " '__dir__',\n",
       " '__doc__',\n",
       " '__eq__',\n",
       " '__format__',\n",
       " '__ge__',\n",
       " '__getattribute__',\n",
       " '__gt__',\n",
       " '__hash__',\n",
       " '__init__',\n",
       " '__init_subclass__',\n",
       " '__le__',\n",
       " '__lt__',\n",
       " '__module__',\n",
       " '__ne__',\n",
       " '__new__',\n",
       " '__post_init__',\n",
       " '__reduce__',\n",
       " '__reduce_ex__',\n",
       " '__repr__',\n",
       " '__setattr__',\n",
       " '__sizeof__',\n",
       " '__str__',\n",
       " '__subclasshook__',\n",
       " '__weakref__',\n",
       " 'plot',\n",
       " 'print',\n",
       " 'score']"
      ]
     },
     "execution_count": 38,
     "metadata": {},
     "output_type": "execute_result"
    }
   ],
   "source": [
    "dir(Map)"
   ]
  },
  {
   "cell_type": "code",
   "execution_count": 32,
   "id": "cc205626",
   "metadata": {
    "scrolled": true
   },
   "outputs": [],
   "source": [
    "import math\n",
    "\n",
    "@dataclass\n",
    "class Point:\n",
    "    x: int\n",
    "    y: int\n",
    "        \n",
    "    def __post_init__(self):\n",
    "        self.x = int(self.x)\n",
    "        self.y = int(self.y)\n",
    "        \n",
    "    def plot(self, map):\n",
    "        \"\"\"Plots this point on the map.\"\"\"\n",
    "        map.plot(self.x, self.y)\n",
    "        \n",
    "    def __eq__(self, other):\n",
    "        \"\"\"Returns true iff self == other.\"\"\"\n",
    "        return self.x == other.x and self.y == other.y\n",
    "    \n",
    "    def __add__(left, right):\n",
    "        \"\"\"Adds left to right.\"\"\"\n",
    "        return Point(left.x + right.x, left.y + right.y)\n",
    "\n",
    "@dataclass\n",
    "class Line:\n",
    "    a: Point\n",
    "    b: Point\n",
    "\n",
    "    def plot(self, map, plot_diaganols=False):\n",
    "        \"\"\"\n",
    "        Plot each point between a and b.\n",
    "        Note: This function does not work for diagnol lines.\n",
    "        \"\"\"\n",
    "        # If horizontal, plot horizontal\n",
    "        if self.a.y == self.b.y:\n",
    "            step = 1 if self.a.x < self.b.x else -1\n",
    "            for x in range(self.a.x, self.b.x + step, step):\n",
    "                map.plot(x, self.a.y)\n",
    "                \n",
    "        # If vertical, plot vertical\n",
    "        elif self.a.x == self.b.x:\n",
    "            step = 1 if self.a.y < self.b.y else -1\n",
    "            for y in range(self.a.y, self.b.y + step, step):\n",
    "                map.plot(self.a.x, y)\n",
    "\n",
    "        # else it is diaganol, only plot for Part #2\n",
    "        elif plot_diaganols:\n",
    "            step_x = 1 if self.a.x < self.b.x else -1\n",
    "            step_y = 1 if self.a.y < self.b.y else -1\n",
    "            step = Point(step_x, step_y)\n",
    "            current = self.a\n",
    "            \n",
    "            while current != self.b:\n",
    "                current.plot(map)\n",
    "                current = current + step\n",
    "\n",
    "            self.b.plot(map)"
   ]
  },
  {
   "cell_type": "code",
   "execution_count": 33,
   "id": "a6cc68e8",
   "metadata": {},
   "outputs": [
    {
     "name": "stdout",
     "output_type": "stream",
     "text": [
      "0,9 -> 5,9\n",
      "Line(a=Point(x=0, y=9), b=Point(x=5, y=9))\n",
      "\n",
      "8,0 -> 0,8\n",
      "Line(a=Point(x=8, y=0), b=Point(x=0, y=8))\n",
      "\n",
      "9,4 -> 3,4\n",
      "Line(a=Point(x=9, y=4), b=Point(x=3, y=4))\n",
      "\n",
      "2,2 -> 2,1\n",
      "Line(a=Point(x=2, y=2), b=Point(x=2, y=1))\n",
      "\n",
      "7,0 -> 7,4\n",
      "Line(a=Point(x=7, y=0), b=Point(x=7, y=4))\n",
      "\n",
      "6,4 -> 2,0\n",
      "Line(a=Point(x=6, y=4), b=Point(x=2, y=0))\n",
      "\n",
      "0,9 -> 2,9\n",
      "Line(a=Point(x=0, y=9), b=Point(x=2, y=9))\n",
      "\n",
      "3,4 -> 1,4\n",
      "Line(a=Point(x=3, y=4), b=Point(x=1, y=4))\n",
      "\n",
      "0,0 -> 8,8\n",
      "Line(a=Point(x=0, y=0), b=Point(x=8, y=8))\n",
      "\n",
      "5,5 -> 8,2\n",
      "Line(a=Point(x=5, y=5), b=Point(x=8, y=2))\n",
      "\n",
      "[0, 0, 0, 0, 0, 0, 0, 1, 0, 0]\n",
      "[0, 0, 1, 0, 0, 0, 0, 1, 0, 0]\n",
      "[0, 0, 1, 0, 0, 0, 0, 1, 0, 0]\n",
      "[0, 0, 0, 0, 0, 0, 0, 1, 0, 0]\n",
      "[0, 1, 1, 2, 1, 1, 1, 2, 1, 1]\n",
      "[0, 0, 0, 0, 0, 0, 0, 0, 0, 0]\n",
      "[0, 0, 0, 0, 0, 0, 0, 0, 0, 0]\n",
      "[0, 0, 0, 0, 0, 0, 0, 0, 0, 0]\n",
      "[0, 0, 0, 0, 0, 0, 0, 0, 0, 0]\n",
      "[2, 2, 2, 1, 1, 1, 0, 0, 0, 0]\n",
      "Score: 5\n"
     ]
    }
   ],
   "source": [
    "def parse_point(s):\n",
    "    coords = s.split(',')\n",
    "    return Point(coords[0], coords[1])\n",
    "        \n",
    "def parse(line):\n",
    "    coords = line.split('->')\n",
    "    a = parse_point(coords[0])\n",
    "    b = parse_point(coords[1])\n",
    "    \n",
    "    return Line(a, b)\n",
    "\n",
    "test_map = Map(10, 10)\n",
    "\n",
    "test_input = [\n",
    "    '0,9 -> 5,9',\n",
    "    '8,0 -> 0,8',\n",
    "    '9,4 -> 3,4',\n",
    "    '2,2 -> 2,1',\n",
    "    '7,0 -> 7,4',\n",
    "    '6,4 -> 2,0',\n",
    "    '0,9 -> 2,9',\n",
    "    '3,4 -> 1,4',\n",
    "    '0,0 -> 8,8',\n",
    "    '5,5 -> 8,2',\n",
    "]\n",
    "\n",
    "for t in test_input:\n",
    "    print(t)\n",
    "    line = parse(t)\n",
    "    print(line)\n",
    "    line.plot(test_map)\n",
    "    print()\n",
    "    \n",
    "test_map.print(0, 0)\n",
    "\n",
    "print(f'Score: {test_map.score()}')"
   ]
  },
  {
   "cell_type": "code",
   "execution_count": 42,
   "id": "839a630a",
   "metadata": {},
   "outputs": [
    {
     "name": "stdout",
     "output_type": "stream",
     "text": [
      "[0, 0, 0, 0, 0, 0, 0, 0, 0, 0]\n",
      "[0, 0, 0, 0, 0, 0, 0, 0, 0, 0]\n",
      "[0, 0, 0, 0, 0, 0, 0, 0, 0, 0]\n",
      "[0, 0, 0, 0, 0, 0, 0, 0, 0, 0]\n",
      "[0, 0, 0, 0, 0, 0, 0, 0, 0, 0]\n",
      "[0, 0, 0, 0, 0, 0, 0, 0, 0, 0]\n",
      "[0, 0, 0, 0, 0, 0, 0, 0, 0, 0]\n",
      "[0, 0, 0, 0, 0, 0, 0, 0, 0, 0]\n",
      "[0, 0, 0, 0, 0, 0, 0, 0, 0, 0]\n",
      "[0, 0, 0, 0, 0, 0, 0, 0, 0, 0]\n",
      "score: 7297\n"
     ]
    }
   ],
   "source": [
    "vent_map = Map(1000, 1000)\n",
    "for l in lines:\n",
    "    line = parse(l)\n",
    "    line.plot(vent_map)\n",
    "    \n",
    "vent_map.print(523, 716)\n",
    "print(f'score: {vent_map.score()}')"
   ]
  },
  {
   "cell_type": "markdown",
   "id": "5b3193c0",
   "metadata": {},
   "source": [
    "# Part 2"
   ]
  },
  {
   "cell_type": "code",
   "execution_count": 36,
   "id": "e1684f01",
   "metadata": {},
   "outputs": [
    {
     "name": "stdout",
     "output_type": "stream",
     "text": [
      "[1, 0, 1, 0, 0, 0, 0, 1, 1, 0]\n",
      "[0, 1, 1, 1, 0, 0, 0, 2, 0, 0]\n",
      "[0, 0, 2, 0, 1, 0, 1, 1, 1, 0]\n",
      "[0, 0, 0, 1, 0, 2, 0, 2, 0, 0]\n",
      "[0, 1, 1, 2, 3, 1, 3, 2, 1, 1]\n",
      "[0, 0, 0, 1, 0, 2, 0, 0, 0, 0]\n",
      "[0, 0, 1, 0, 0, 0, 1, 0, 0, 0]\n",
      "[0, 1, 0, 0, 0, 0, 0, 1, 0, 0]\n",
      "[1, 0, 0, 0, 0, 0, 0, 0, 1, 0]\n",
      "[2, 2, 2, 1, 1, 1, 0, 0, 0, 0]\n",
      "Score: 12\n"
     ]
    }
   ],
   "source": [
    "test_map = Map(10, 10)\n",
    "\n",
    "for t in test_input:\n",
    "    line = parse(t)\n",
    "    line.plot(test_map, True)\n",
    "    \n",
    "test_map.print(0, 0)\n",
    "\n",
    "print(f'Score: {test_map.score()}')"
   ]
  },
  {
   "cell_type": "code",
   "execution_count": 37,
   "id": "9930690a",
   "metadata": {},
   "outputs": [
    {
     "name": "stdout",
     "output_type": "stream",
     "text": [
      "[0, 0, 0, 1, 0, 0, 0, 0, 0, 0]\n",
      "[0, 0, 1, 0, 0, 0, 0, 0, 0, 0]\n",
      "[2, 2, 1, 1, 1, 1, 1, 1, 1, 1]\n",
      "[2, 2, 1, 1, 1, 1, 1, 1, 1, 1]\n",
      "[0, 0, 1, 0, 0, 0, 0, 0, 0, 0]\n",
      "[0, 0, 0, 1, 0, 0, 0, 0, 0, 1]\n",
      "[0, 0, 0, 0, 1, 0, 0, 0, 1, 0]\n",
      "[0, 0, 0, 0, 0, 1, 0, 1, 0, 0]\n",
      "[0, 0, 0, 0, 0, 0, 2, 0, 0, 0]\n",
      "[0, 0, 0, 0, 0, 1, 0, 1, 0, 0]\n",
      "score: 21038\n"
     ]
    }
   ],
   "source": [
    "vent_map = Map(1000, 1000)\n",
    "for l in lines:\n",
    "    line = parse(l)\n",
    "    line.plot(vent_map, True)\n",
    "    \n",
    "vent_map.print(327,429)\n",
    "print(f'score: {vent_map.score()}')"
   ]
  },
  {
   "cell_type": "code",
   "execution_count": null,
   "id": "77a2f783",
   "metadata": {},
   "outputs": [],
   "source": []
  }
 ],
 "metadata": {
  "kernelspec": {
   "display_name": "Python 3 (ipykernel)",
   "language": "python",
   "name": "python3"
  },
  "language_info": {
   "codemirror_mode": {
    "name": "ipython",
    "version": 3
   },
   "file_extension": ".py",
   "mimetype": "text/x-python",
   "name": "python",
   "nbconvert_exporter": "python",
   "pygments_lexer": "ipython3",
   "version": "3.7.10"
  }
 },
 "nbformat": 4,
 "nbformat_minor": 5
}
